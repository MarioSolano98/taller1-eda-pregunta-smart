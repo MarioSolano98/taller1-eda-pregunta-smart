{
 "cells": [
  {
   "cell_type": "markdown",
   "metadata": {},
   "source": [
    "### Churn de seguros masivos (Mario Solano)\n",
    " \n",
    "*Problema*: El inventario de subscripciones de seguros masivos disminuye por las cancelaciones al mismo ritmo que se añaden nuevos seguros por las ventas haciendo que no crezca el volumen total de certificados y al mismo tiempo las primas percibidas por las cuotas de seguros.\n",
    "\n",
    "*Puede ser resuelto por ciencia de datos o AI?*\n",
    "Puede ser reseulto por ciencia de datos ya que podemos encontrar las principales variables que afectan las cancelaciones y encontrar patrones en el comportamiento de los clientes que nos ayuden a poder retenerlos.\n",
    "\n",
    "*Pregunta SMART*:\n",
    "¿Cuales son las características de los clientes que tienen una persistencia mayor o igual al 40% en una suscripción de seguro de vida masivo colocado por Davivienda Seguros en el periodo del 2020 al 2024?\n",
    "•Requerimiento de los datos: Fechas de aperturas, cancelaciones, movimientos de pagos, características de los clientes, etc."
   ]
  }
 ],
 "metadata": {
  "language_info": {
   "name": "python"
  }
 },
 "nbformat": 4,
 "nbformat_minor": 2
}
